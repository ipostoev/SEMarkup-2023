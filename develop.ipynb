{
 "cells": [
  {
   "cell_type": "code",
   "execution_count": null,
   "id": "a00be52b-1d13-4c02-a413-67e7d2fc0e7b",
   "metadata": {},
   "outputs": [],
   "source": [
    "!git clone https://github.com/ipostoev/SEMarkup-2023.git\n",
    "!mv /content/SEMarkup-2023 /content/semarkup\n",
    "!cd semarkup && git checkout develop\n",
    "!pip install -r \"/content/semarkup/baseline/requirements.txt\""
   ]
  },
  {
   "cell_type": "code",
   "execution_count": null,
   "id": "ab17dc7e-9092-457e-8fa2-7f3063e18a35",
   "metadata": {},
   "outputs": [],
   "source": [
    "!python /content/semarkup/baseline/misc/train_val_split.py /content/semarkup/train.conllu /content/semarkup/train_splitted.conllu /content/semarkup/val_splitted.conllu 0.8"
   ]
  },
  {
   "cell_type": "code",
   "execution_count": null,
   "id": "5337726a-256a-4cd6-bc0a-8ceee4745c71",
   "metadata": {},
   "outputs": [],
   "source": [
    "import sys\n",
    "sys.path.append(\"/content/semarkup/baseline/parser/\")\n",
    "\n",
    "import torch\n",
    "import dataset_reader\n",
    "from feedforward_classifier import FeedForwardClassifier\n",
    "from dependency_classifier import DependencyClassifier\n",
    "from semparser import MorphoSyntaxSemanticParser\n",
    "\n",
    "from allennlp.data import Instance, Token, Vocabulary\n",
    "from allennlp.data.data_loaders import MultiProcessDataLoader\n",
    "from allennlp.data.token_indexers.pretrained_transformer_mismatched_indexer import PretrainedTransformerMismatchedIndexer\n",
    "from allennlp.modules.token_embedders.pretrained_transformer_mismatched_embedder import PretrainedTransformerMismatchedEmbedder\n",
    "from allennlp.nn.util import get_text_field_mask"
   ]
  },
  {
   "cell_type": "code",
   "execution_count": null,
   "id": "376dfd7d-62de-449a-a0c9-282d0ddb42bd",
   "metadata": {},
   "outputs": [],
   "source": [
    "# Inference"
   ]
  },
  {
   "cell_type": "code",
   "execution_count": null,
   "id": "0423cd53-529f-4bf4-b6d4-b63b61fb8feb",
   "metadata": {},
   "outputs": [],
   "source": [
    "reader = dataset_reader.ComprenoUDDatasetReader({'tokens': PretrainedTransformerMismatchedIndexer('cointegrated/rubert-tiny')})\n",
    "instances = list(reader.read(\"/content/semarkup/val_splitted.conllu\"))\n",
    "vocab = Vocabulary.from_instances(instances)\n",
    "embedder = PretrainedTransformerMismatchedEmbedder(model_name=\"cointegrated/rubert-tiny\")"
   ]
  },
  {
   "cell_type": "code",
   "execution_count": null,
   "id": "9e68c999-c0be-4390-8375-b12013cda0f6",
   "metadata": {},
   "outputs": [],
   "source": [
    "emb_output_dim = embedder.get_output_dim()\n",
    "lemma_rule_classifier = FeedForwardClassifier(vocab, emb_output_dim, 256, vocab.get_vocab_size(\"lemma_rule_labels\"), \"relu\", 0.1)\n",
    "pos_feats_classifier = FeedForwardClassifier(vocab, emb_output_dim, 256, vocab.get_vocab_size(\"pos_feats_labels\"), \"relu\", 0.1)\n",
    "depencency_classifier = DependencyClassifier(vocab, emb_output_dim, 512, vocab.get_vocab_size(\"deprel_labels\"), \"relu\", 0.1)\n",
    "semslot_classifier = FeedForwardClassifier(vocab, emb_output_dim, 1024, vocab.get_vocab_size(\"semslot_labels\"), \"relu\", 0.1)\n",
    "semclass_classifier = FeedForwardClassifier(vocab, emb_output_dim, 1024, vocab.get_vocab_size(\"semclass_labels\"), \"relu\", 0.1)\n",
    "model = MorphoSyntaxSemanticParser(vocab, embedder, lemma_rule_classifier, pos_feats_classifier, depencency_classifier, semslot_classifier, semclass_classifier)"
   ]
  },
  {
   "cell_type": "code",
   "execution_count": null,
   "id": "d9d6869e-bf5d-4569-8131-8e2290069aa1",
   "metadata": {},
   "outputs": [],
   "source": [
    "# Train"
   ]
  },
  {
   "cell_type": "code",
   "execution_count": null,
   "id": "3eced23f-a4e4-43b3-8a44-247a74d0c65d",
   "metadata": {},
   "outputs": [],
   "source": [
    "!allennlp train /content/semarkup/baseline/parser/configs/tiny.jsonnet --serialization-dir /content/semarkup/serialization_dir --include-package semarkup.baseline.semparser"
   ]
  }
 ],
 "metadata": {
  "kernelspec": {
   "display_name": "Python 3 (ipykernel)",
   "language": "python",
   "name": "python3"
  },
  "language_info": {
   "codemirror_mode": {
    "name": "ipython",
    "version": 3
   },
   "file_extension": ".py",
   "mimetype": "text/x-python",
   "name": "python",
   "nbconvert_exporter": "python",
   "pygments_lexer": "ipython3",
   "version": "3.9.13"
  }
 },
 "nbformat": 4,
 "nbformat_minor": 5
}
